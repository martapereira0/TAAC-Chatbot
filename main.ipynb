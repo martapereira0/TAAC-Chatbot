{
 "cells": [
  {
   "cell_type": "code",
   "execution_count": null,
   "metadata": {},
   "outputs": [],
   "source": [
    "!pip install transformers\n",
    "!pip install sentence-transformers\n",
    "!pip install langchain"
   ]
  },
  {
   "cell_type": "code",
   "execution_count": 3,
   "metadata": {},
   "outputs": [],
   "source": [
    "from langchain import HuggingFaceHub\n",
    "import os\n",
    "from dotenv import load_dotenv\n",
    "import pdfplumber"
   ]
  },
  {
   "cell_type": "code",
   "execution_count": 11,
   "metadata": {},
   "outputs": [
    {
     "name": "stdout",
     "output_type": "stream",
     "text": [
      "1009\n"
     ]
    }
   ],
   "source": [
    "from sentence_transformers import SentenceTransformer\n",
    "\n",
    "model = SentenceTransformer('all-MiniLM-L6-v2')\n",
    "\n",
    "def read_pdf(file_path):\n",
    "    with pdfplumber.open(file_path) as pdf:\n",
    "        text = ''\n",
    "        for page in pdf.pages:\n",
    "            text += page.extract_text() + '\\n'\n",
    "    return text\n",
    "\n",
    "file_path = 'ArtificialIntelligenceAct-1-50.pdf'  \n",
    "document_text = read_pdf(file_path)\n",
    "\n",
    "paragraphs = document_text.split('\\n') \n",
    "print(len(paragraphs))\n",
    "with open('paragraphs.txt', 'w', encoding='utf-8') as f:\n",
    "    for par in paragraphs:\n",
    "        f.write(par + '\\n\\n\\n')\n",
    "\n",
    "embeddings = model.encode(paragraphs)\n",
    "\n",
    "with open('embeddings.txt', 'w') as f:\n",
    "    for i, embedding in enumerate(embeddings):\n",
    "        f.write(f\"Paragraph {i+1} embeddings: {embedding.tolist()}\\n\")"
   ]
  }
 ],
 "metadata": {
  "kernelspec": {
   "display_name": "taac",
   "language": "python",
   "name": "python3"
  },
  "language_info": {
   "codemirror_mode": {
    "name": "ipython",
    "version": 3
   },
   "file_extension": ".py",
   "mimetype": "text/x-python",
   "name": "python",
   "nbconvert_exporter": "python",
   "pygments_lexer": "ipython3",
   "version": "3.10.0"
  }
 },
 "nbformat": 4,
 "nbformat_minor": 2
}
