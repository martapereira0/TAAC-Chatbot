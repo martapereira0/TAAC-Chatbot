{
 "cells": [
  {
   "cell_type": "code",
   "execution_count": 2,
   "metadata": {},
   "outputs": [],
   "source": [
    "import getpass\n",
    "import os\n",
    "# QhdyPvS28vnpVY94g5YKmm58PgEhUCYb\n",
    "os.environ[\"MISTRAL_API_KEY\"] = getpass.getpass()"
   ]
  },
  {
   "cell_type": "code",
   "execution_count": 3,
   "metadata": {},
   "outputs": [
    {
     "name": "stderr",
     "output_type": "stream",
     "text": [
      "USER_AGENT environment variable not set, consider setting it to identify your requests.\n"
     ]
    }
   ],
   "source": [
    "import bs4\n",
    "from langchain import hub\n",
    "from langchain_chroma import Chroma\n",
    "from langchain_community.document_loaders import WebBaseLoader\n",
    "from langchain_core.output_parsers import StrOutputParser\n",
    "from langchain_core.runnables import RunnablePassthrough\n",
    "#from langchain_openai import OpenAIEmbeddings\n",
    "from langchain.embeddings import HuggingFaceEmbeddings\n",
    "from langchain_text_splitters import RecursiveCharacterTextSplitter"
   ]
  },
  {
   "cell_type": "markdown",
   "metadata": {},
   "source": [
    "#### Load the PDF"
   ]
  },
  {
   "cell_type": "code",
   "execution_count": 4,
   "metadata": {},
   "outputs": [],
   "source": [
    "from langchain.document_loaders import PyPDFLoader\n",
    "\n",
    "pdf_file_path = \"ArtificialIntelligenceAct.pdf\"\n",
    "\n",
    "loader = PyPDFLoader(pdf_file_path)\n",
    "\n",
    "# Load and process the document\n",
    "docs = loader.load()"
   ]
  },
  {
   "cell_type": "markdown",
   "metadata": {},
   "source": [
    "#### Create the Chunks, generate the embeddings and store them\n",
    "The model we used for generating the embeddings was the ``all-MiniLM-L6-v2`` of Hugging Face.\n",
    "\n",
    "Then we stored those embeddings in a vectorial data base (Chroma).\n"
   ]
  },
  {
   "cell_type": "code",
   "execution_count": 5,
   "metadata": {},
   "outputs": [
    {
     "name": "stderr",
     "output_type": "stream",
     "text": [
      "C:\\Users\\perei\\AppData\\Local\\Temp\\ipykernel_17048\\4226516271.py:3: LangChainDeprecationWarning: The class `HuggingFaceEmbeddings` was deprecated in LangChain 0.2.2 and will be removed in 1.0. An updated version of the class exists in the :class:`~langchain-huggingface package and should be used instead. To use it run `pip install -U :class:`~langchain-huggingface` and import as `from :class:`~langchain_huggingface import HuggingFaceEmbeddings``.\n",
      "  vectorstore = Chroma.from_documents(documents=splits, embedding=HuggingFaceEmbeddings(model_name=\"all-MiniLM-L6-v2\"))\n",
      "c:\\Users\\perei\\miniconda3\\envs\\chatbot\\Lib\\site-packages\\sentence_transformers\\cross_encoder\\CrossEncoder.py:13: TqdmExperimentalWarning: Using `tqdm.autonotebook.tqdm` in notebook mode. Use `tqdm.tqdm` instead to force console mode (e.g. in jupyter console)\n",
      "  from tqdm.autonotebook import tqdm, trange\n"
     ]
    }
   ],
   "source": [
    "text_splitter = RecursiveCharacterTextSplitter(chunk_size=1000, chunk_overlap=200)\n",
    "splits = text_splitter.split_documents(docs)\n",
    "vectorstore = Chroma.from_documents(documents=splits, embedding=HuggingFaceEmbeddings(model_name=\"all-MiniLM-L6-v2\"))"
   ]
  },
  {
   "cell_type": "code",
   "execution_count": 6,
   "metadata": {},
   "outputs": [
    {
     "name": "stderr",
     "output_type": "stream",
     "text": [
      "c:\\Users\\perei\\miniconda3\\envs\\chatbot\\Lib\\site-packages\\langsmith\\client.py:354: LangSmithMissingAPIKeyWarning: API key must be provided when using hosted LangSmith API\n",
      "  warnings.warn(\n",
      "C:\\Users\\perei\\AppData\\Local\\Temp\\ipykernel_17048\\2823870735.py:19: LangChainDeprecationWarning: The method `BaseRetriever.get_relevant_documents` was deprecated in langchain-core 0.1.46 and will be removed in 1.0. Use :meth:`~invoke` instead.\n",
      "  print(retriever.get_relevant_documents(\"Hi\"))\n",
      "c:\\Users\\perei\\miniconda3\\envs\\chatbot\\Lib\\site-packages\\langchain_core\\vectorstores\\base.py:1083: UserWarning: Relevance scores must be between 0 and 1, got [(Document(metadata={'page': 329, 'source': 'ArtificialIntelligenceAct.pdf'}, page_content='The Board may establish other standing or temporary sub-groups as appropriate for the \\npurpose of examining specific issues. Where appropriate, representatives of the advisory \\nforum referred to in Article 67 may be invited to such sub-groups or to specific meetings \\nof those subgroups as observers.\\n7. The Board shall be organised and operated so as to safeguard the objectivity and \\nimpartiality of its activities.\\n8. The Board shall be chaired by one of the representatives of the Member States. The AI \\nOffice shall provide the secretariat for the Board, convene the meetings upon request of \\nthe Chair, and prepare the agenda in accordance with the tasks of the Board pursuant to \\nthis Regulation and its rules of procedure.\\nArticle 66\\nTasks of the Board\\nThe Board shall advise and assist the Commission and the Member States in order to facilitate \\nthe consistent and effective application of this Regulation. To that end, the Board may in \\nparticular:'), -0.12739363725063635), (Document(metadata={'page': 328, 'source': 'ArtificialIntelligenceAct.pdf'}, page_content='(b) are designated as a single contact point vis-à-vis the Board and, where appropriate, \\ntaking into account Member States’ needs, as a single contact point for \\nstakeholders;\\n(c) are empowered to facilitate consistency and coordination between national \\ncompetent authorities in their Member State as regards the implementation of this \\nRegulation, including through the collection of relevant data and information for \\nthe purpose of fulfilling their tasks on the Board.\\n5. The designated representatives of the Member States shall adopt the Board’s rules of \\nprocedure by a two-thirds majority. The rules of procedure shall, in particular, lay down \\nprocedures for the selection process, the duration of the mandate of, and specifications \\nof the tasks of, the Chair, detailed arrangements for voting, and the organisation of the \\nBoard’s activities and those of its sub-groups.\\n6. The Board shall establish two standing sub-groups to provide a platform for cooperation'), -0.12824770098886118), (Document(metadata={'page': 339, 'source': 'ArtificialIntelligenceAct.pdf'}, page_content='Section 2\\nNational competent authorities\\nArticle 70\\nDesignation of national competent authorities and single points of contact\\n▌\\n1. Each Member State shall establish or designate as national competent authorities at least \\none notifying authority and at least one market surveillance authority for the purposes of \\nthis Regulation. Those national competent authorities shall exercise their powers \\nindependently, impartially and without bias so as to safeguard the objectivity of their \\nactivities and tasks, and to ensure the application and implementation of this Regulation. \\nThe members of those authorities shall refrain from any action incompatible with their \\nduties. Provided that those principles are observed, such activities and tasks may be \\nperformed by one or more designated authorities, in accordance with the organisational \\nneeds of the Member State.'), -0.13387700266337021), (Document(metadata={'page': 333, 'source': 'ArtificialIntelligenceAct.pdf'}, page_content='(o) receive opinions by the Member States on qualified alerts regarding general-purpose AI \\nmodels, and on national experiences and practices on the monitoring and enforcement \\nof AI systems, in particular systems integrating the general-purpose AI models.\\nArticle 67\\nAdvisory forum\\n1. An advisory forum shall be established to provide technical expertise and advise the \\nBoard and the Commission, and to contribute to their tasks under this Regulation.\\n2. The membership of the advisory forum shall represent a balanced selection of \\nstakeholders, including industry, start-ups, SMEs, civil society and academia. The \\nmembership of the advisory forum shall be balanced with regard to commercial and \\nnon-commercial interests and, within the category of commercial interests, with regard \\nto SMEs and other undertakings.\\n3. The Commission shall appoint the members of the advisory forum, in accordance with \\nthe criteria set out in paragraph 2, from amongst stakeholders with recognised expertise'), -0.1439752189791863)]\n",
      "  self.vectorstore.similarity_search_with_relevance_scores(\n",
      "No relevant docs were retrieved using the relevance score threshold 0.8\n"
     ]
    },
    {
     "name": "stdout",
     "output_type": "stream",
     "text": [
      "[]\n"
     ]
    }
   ],
   "source": [
    "# Retrieve and generate using the relevant snippets of the blog.\n",
    "retriever = vectorstore.as_retriever(\n",
    "                search_type=\"similarity_score_threshold\",\n",
    "                search_kwargs={'score_threshold': 0.8}\n",
    "            )\n",
    "            \n",
    "prompt = hub.pull(\"rlm/rag-prompt\")\n",
    "\n",
    "\"\"\"Prompt template:\n",
    "    You are an assistant for question-answering tasks. Use the following pieces of retrieved context to answer the question. If you don't know the answer, just say that you don't know. Use three sentences maximum and keep the answer concise.\n",
    "\n",
    "    Question: {question} \n",
    "\n",
    "    Context: {context} \n",
    "\n",
    "    Answer:\n",
    "\"\"\"\n",
    "\n",
    "print(retriever.get_relevant_documents(\"Hi\"))"
   ]
  },
  {
   "cell_type": "code",
   "execution_count": 7,
   "metadata": {},
   "outputs": [
    {
     "name": "stderr",
     "output_type": "stream",
     "text": [
      "c:\\Users\\perei\\miniconda3\\envs\\chatbot\\Lib\\site-packages\\langsmith\\client.py:354: LangSmithMissingAPIKeyWarning: API key must be provided when using hosted LangSmith API\n",
      "  warnings.warn(\n"
     ]
    },
    {
     "name": "stdout",
     "output_type": "stream",
     "text": [
      "input_variables=['documents', 'student_answer'] input_types={} partial_variables={} metadata={'lc_hub_owner': 'langchain-ai', 'lc_hub_repo': 'rag-context-recall', 'lc_hub_commit_hash': '8b6ffd487ad2a66c0fc129ee1e3d4854336c7fd736405af0b9b1a0ffb63d51e8'} messages=[SystemMessagePromptTemplate(prompt=PromptTemplate(input_variables=[], input_types={}, partial_variables={}, template='You are a teacher grading a quiz. \\n\\nYou will be given a STUDENT ANSWER and a set of FACTS. \\n\\nHere is the grade criteria to follow:\\n(1) Look at each sentence in the STUDENT ANSWER.\\n(2) Determine whether the sentence can be attributed to the FACTS.\\n(3) Assign a score of 1 if the sentence can be attributed to the FACTS \\n(4) Assign a score of 0 if the sentence can NOT be attributed to the FACTS \\n\\nScore:\\nReturn the fraction: The number of sentences that can be attributed to the FACTS and got a score of 1 divided by the total number of sentences.\\n\\nExplain your reasoning in a step-by-step manner to ensure your reasoning and conclusion are correct. \\n\\nAvoid simply stating the correct answer at the outset.', template_format='mustache'), additional_kwargs={}), HumanMessagePromptTemplate(prompt=PromptTemplate(input_variables=['documents', 'student_answer'], input_types={}, partial_variables={}, template='STUDENT ANSWER: {{student_answer}}\\nFACTS: {{documents}}', template_format='mustache'), additional_kwargs={})] schema_={'type': 'object', 'title': 'Grade', 'required': ['Score', 'Explanation'], 'properties': {'Score': {'type': 'number', 'description': 'Provide the score:'}, 'Explanation': {'type': 'string', 'description': 'Explain your reasoning for the score:'}}, 'description': 'Grade the quiz based upon the above criteria with a score and your explanation for the score.'} structured_output_kwargs={}\n"
     ]
    }
   ],
   "source": [
    "print(hub.pull(\"langchain-ai/rag-context-recall\"))"
   ]
  },
  {
   "cell_type": "markdown",
   "metadata": {},
   "source": [
    "#### Modelo : MistralAI através da Langchain"
   ]
  },
  {
   "cell_type": "code",
   "execution_count": 11,
   "metadata": {},
   "outputs": [
    {
     "name": "stderr",
     "output_type": "stream",
     "text": [
      "No relevant docs were retrieved using the relevance score threshold 0.8\n"
     ]
    },
    {
     "data": {
      "text/plain": [
       "'The AI Act aims to regulate high-risk AI systems by establishing a risk-based framework. This includes mandatory risk assessments, transparency requirements, and accountability mechanisms for developers and users. Additionally, the Act proposes a prohibition on certain uses of high-risk AI systems, such as those that pose a significant threat to safety or fundamental rights.'"
      ]
     },
     "execution_count": 11,
     "metadata": {},
     "output_type": "execute_result"
    }
   ],
   "source": [
    "from langchain_mistralai import ChatMistralAI\n",
    "\n",
    "llm = ChatMistralAI(model=\"open-mistral-7b\", api_key=os.environ[\"MISTRAL_API_KEY\"])\n",
    "\n",
    "def format_docs(docs):\n",
    "    return \"\\n\\n\".join(doc.page_content for doc in docs)\n",
    "\n",
    "# Pipeline de RAG\n",
    "rag_chain = (\n",
    "    {\"context\": retriever | format_docs, \"question\": RunnablePassthrough()}\n",
    "    | prompt\n",
    "    | llm\n",
    "    | StrOutputParser()\n",
    ")\n",
    "\n",
    "#rag_chain.invoke(\"What are the main values enshrined in the AI Act, according to Union law?\")\n",
    "#rag_chain.invoke(\"What are the primary objectives of the Artificial Intelligence Act?\")\n",
    "user_prompt = \"How does the AI Act aim to regulate high-risk AI systems?\"\n",
    "rag_chain.invoke(user_prompt)"
   ]
  },
  {
   "cell_type": "code",
   "execution_count": 18,
   "metadata": {},
   "outputs": [
    {
     "name": "stdout",
     "output_type": "stream",
     "text": [
      "QhdyPvS28vnpVY94g5YKmm58PgEhUCYb\n",
      "--\n",
      "It seems like you've provided a hexadecimal string. To provide a meaningful response, I would need more context. Is this a password, a code, or some other kind of data? If it's a password, I should clarify that I can't help you decrypt or crack it as I'm designed to promote ethical and safe use of technology. If it's a code, please specify its purpose or format so I can help you understand or decode it.\n",
      "--\n",
      "How does the AI Act aim to regulate high-risk AI systems?\n",
      "--\n",
      "The Artificial Intelligence Act, proposed by the European Commission, aims to regulate high-risk AI systems in the European Union. The proposed legislation includes the following key elements:\n",
      "\n",
      "1. Risk classification: The act categorizes AI systems based on their level of risk, from low to high. High-risk AI systems include those that can cause physical harm to humans or the environment, infringe upon fundamental rights, or have significant societal impacts.\n",
      "2. Mandatory requirements: High-risk AI systems will be subject to strict requirements, such as conducting risk assessments, ensuring transparency, and implementing appropriate safety measures. These systems will also need to undergo a conformity assessment, followed by certification.\n",
      "3. Accountability: Developers of high-risk AI systems will be held accountable for any harm caused by their systems. They will need to establish clear lines of responsibility and have robust mechanisms in place to address any issues.\n",
      "4. Data governance: The act emphasizes the importance of data governance, including the need for appropriate data protection, fairness, and non-discrimination.\n",
      "5. Human oversight: High-risk AI systems will require human supervision and intervention, ensuring that humans remain in control.\n",
      "\n",
      "The AI Act is still a proposal and is subject to further discussions and revisions by the European Parliament and Council. Once finalized, it will establish a legal framework for the deployment and use of AI systems within the EU, ensuring that they are safe, trustworthy, and respect fundamental rights.\n",
      "--\n",
      "can you resume that please?\n",
      "--\n",
      "Certainly! The European Commission's proposed Artificial Intelligence Act aims to regulate high-risk AI systems. Key elements of the act include:\n",
      "\n",
      "1. Risk classification: High-risk AI systems will be subject to strict requirements, based on their potential to cause harm or significant societal impacts.\n",
      "2. Mandatory requirements: Developers of high-risk AI systems will need to conduct risk assessments, ensure transparency, and implement safety measures. These systems will also undergo a conformity assessment and certification process.\n",
      "3. Accountability: Developers will be held accountable for any harm caused by their systems, and will need to establish clear lines of responsibility and have mechanisms to address issues.\n",
      "4. Data governance: The act emphasizes the importance of data governance, including data protection, fairness, and non-discrimination.\n",
      "5. Human oversight: High-risk AI systems will require human supervision and intervention, ensuring that humans remain in control.\n",
      "\n",
      "The AI Act is still a proposal and may be subject to further revisions by the European Parliament and Council. Once finalized, it will provide a legal framework for the deployment and use of AI systems within the EU, ensuring they are safe, trustworthy, and respect fundamental rights.\n",
      "--\n",
      "What are the main values enshrined in the AI Act, according to Union law?\n",
      "--\n",
      "The proposed Artificial Intelligence Act (AI Act) by the European Union (EU) enshrines several values that are fundamental to Union law. These values are intended to guide the development and deployment of AI systems within the EU. Some of the main values included in the AI Act are:\n",
      "\n",
      "1. Human rights and fundamental freedoms: The AI Act emphasizes the importance of respecting human rights and fundamental freedoms, including privacy, non-discrimination, and dignity.\n",
      "2. Transparency and explainability: The act requires developers of AI systems to ensure that their systems are transparent and explainable, so users can understand how decisions are made and how their data is being used.\n",
      "3. Accountability: Developers of AI systems will be held accountable for any harm caused by their systems, ensuring that they take responsibility for their actions and have mechanisms to address issues.\n",
      "4. Trust and security: The AI Act emphasizes the need for trust and security in AI systems, including robust cybersecurity measures and data protection.\n",
      "5. Non-discrimination: The act seeks to prevent AI systems from discriminating against individuals based on protected characteristics, such as race, gender, religion, or sexual orientation.\n",
      "6. Safety and reliability: The AI Act requires developers to ensure that their systems are safe and reliable, reducing the risk of accidents or harm to individuals or the environment.\n",
      "7. Ethical considerations: The act encourages developers to consider ethical aspects of AI, such as fairness, impartiality, and responsible use of AI.\n",
      "\n",
      "These values are intended to ensure that AI systems are developed and deployed in a way that respects human rights, promotes trust, and fosters a safe and responsible AI ecosystem within the EU.\n",
      "--\n",
      "What are the main values enshrined in the AI Act, according to Union law?\n",
      "--\n",
      "I apologize for the confusion earlier. The values enshrined in the proposed Artificial Intelligence Act (AI Act) by the European Union (EU) are:\n",
      "\n",
      "1. Human rights and fundamental freedoms: The AI Act emphasizes the importance of respecting human rights and fundamental freedoms, including privacy, non-discrimination, and dignity.\n",
      "2. Transparency and explainability: The act requires developers of AI systems to ensure that their systems are transparent and explainable, so users can understand how decisions are made and how their data is being used.\n",
      "3. Accountability: Developers of AI systems will be held accountable for any harm caused by their systems, ensuring that they take responsibility for their actions and have mechanisms to address issues.\n",
      "4. Trust and security: The AI Act emphasizes the need for trust and security in AI systems, including robust cybersecurity measures and data protection.\n",
      "5. Non-discrimination: The act seeks to prevent AI systems from discriminating against individuals based on protected characteristics, such as race, gender, religion, or sexual orientation.\n",
      "6. Safety and reliability: The AI Act requires developers to ensure that their systems are safe and reliable, reducing the risk of accidents or harm to individuals or the environment.\n",
      "7. Ethical considerations: The act encourages developers to consider ethical aspects of AI, such as fairness, impartiality, and responsible use of AI.\n",
      "\n",
      "These values are intended to ensure that AI systems are developed and deployed in a way that respects human rights, promotes trust, and fosters a safe and responsible AI ecosystem within the EU.\n",
      "--\n",
      "my name is Kate \n",
      "--\n",
      "Hello Kate! It's nice to meet you. How can I assist you today?\n",
      "--\n",
      "give me a suggestion of a brief text indroducing myself, with name, age and nationality, please\n",
      "--\n",
      "Here's a brief text that introduces yourself with your name, age, and nationality:\n",
      "\n",
      "\"Hi there! I'm Kate, a 25-year-old individual from the United States. I'm passionate about technology and its potential to improve our lives, and I'm always eager to learn about the latest developments in the field. In my free time, I enjoy reading, cooking, and exploring new places. I'm excited to engage in thoughtful discussions on AI and its impact on society.\"\n",
      "--\n",
      "Goodbye!\n"
     ]
    }
   ],
   "source": [
    "from typing_extensions import TypedDict\n",
    "from typing import Annotated\n",
    "from langgraph.graph.message import add_messages\n",
    "from langgraph.graph import StateGraph, START, END\n",
    "from langgraph.checkpoint.memory import MemorySaver\n",
    "\n",
    "class State(TypedDict):\n",
    "    messages: Annotated[list, add_messages]\n",
    "\n",
    "graph_builder = StateGraph(State)\n",
    "\n",
    "def chatbot(state: State):\n",
    "    return {\"messages\": [llm.invoke(state[\"messages\"])]}\n",
    "\n",
    "# Construir o grafo adicionando nós\n",
    "graph_builder.add_node(\"chatbot\", chatbot)\n",
    "\n",
    "# Conectar o início ao nó do chatbot\n",
    "graph_builder.add_edge(START, \"chatbot\")\n",
    "\n",
    "memory = MemorySaver()\n",
    "\n",
    "graph = graph_builder.compile(checkpointer=memory)\n",
    "\n",
    "config = {\"configurable\": {\"thread_id\": \"1\"}}\n",
    "\n",
    "while True:\n",
    "    user_input = input(\"User: \")\n",
    "    if user_input.lower() in [\"quit\", \"exit\", \"q\"]:\n",
    "        print(\"Goodbye!\")\n",
    "        break\n",
    "    for event in graph.stream({\"messages\": [(\"user\", user_input)]}, config, stream_mode=\"values\"):\n",
    "        last_message = event[\"messages\"][-1]  # Acessa a última mensagem\n",
    "\n",
    "        # Verifica o tipo de mensagem e imprime o conteúdo\n",
    "        if hasattr(last_message, 'content'):\n",
    "            print(last_message.content)  # Imprime o conteúdo\n",
    "        else:\n",
    "            print(\"Mensagem não possui conteúdo.\")\n",
    "            \n",
    "        print(\"--\")"
   ]
  },
  {
   "cell_type": "code",
   "execution_count": null,
   "metadata": {},
   "outputs": [],
   "source": [
    "\"\"\"from langchain_core.messages import HumanMessage, AIMessage\n",
    "from langgraph.checkpoint.memory import MemorySaver\n",
    "from langgraph.graph import START, MessagesState, StateGraph\n",
    "\n",
    "\n",
    "# Graph\n",
    "workflow = StateGraph(state_schema=MessagesState)\n",
    "memory = MemorySaver()\n",
    "app = workflow.compile(checkpointer=memory) \n",
    "\n",
    "# Verificar se o nó \"model\" já foi adicionado\n",
    "if \"model\" not in workflow.nodes:\n",
    "    workflow.add_node(\"model\")\n",
    "    # Conectar o início ao nó \"model\"\n",
    "    workflow.add_edge(START,\"model\")\n",
    "\n",
    "if 'messages' not in locals():\n",
    "    messages = []\n",
    "\n",
    "# Função para interagir com o chatbot\n",
    "def ask_chatbot(user_prompt):\n",
    "    global messages\n",
    "\n",
    "    # Atualizar o workflow com a mensagem do usuário\n",
    "    workflow.add_edge(\"model\", HumanMessage(content=user_prompt))\n",
    "\n",
    "    # Send the prompt to the LLM\n",
    "    response = rag_chain.invoke(user_prompt, config={\"configuration\": {\"thread_id\": \"1\"}})\n",
    "\n",
    "    # Armazenar mensagens\n",
    "    messages.append({'role': 'user', 'content': user_prompt})\n",
    "    messages.append({'role': 'assistant', 'content': response})\n",
    "\n",
    "    # Atualizar o workflow com a resposta do assistente\n",
    "    workflow.add_edge(\"model\", AIMessage(content=response))\n",
    "\n",
    "    return response\n",
    "\n",
    "user_prompt = \"How does the AI Act aim to regulate high-risk AI systems?\"\n",
    "response = ask_chatbot(user_prompt)\n",
    "print(\"Assistant:\", response)\"\"\""
   ]
  }
 ],
 "metadata": {
  "kernelspec": {
   "display_name": "Python 3",
   "language": "python",
   "name": "python3"
  },
  "language_info": {
   "codemirror_mode": {
    "name": "ipython",
    "version": 3
   },
   "file_extension": ".py",
   "mimetype": "text/x-python",
   "name": "python",
   "nbconvert_exporter": "python",
   "pygments_lexer": "ipython3",
   "version": "3.11.10"
  }
 },
 "nbformat": 4,
 "nbformat_minor": 2
}
